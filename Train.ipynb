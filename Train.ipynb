{
  "nbformat": 4,
  "nbformat_minor": 0,
  "metadata": {
    "colab": {
      "provenance": []
    },
    "kernelspec": {
      "name": "python3",
      "display_name": "Python 3"
    },
    "language_info": {
      "name": "python"
    }
  },
  "cells": [
    {
      "cell_type": "code",
      "source": [
        "import torch\n",
        "import torch.nn as nn\n",
        "import torch.optim as optim\n",
        "from Model import YOLOv3\n",
        "from Model import YOLOLoss\n",
        "# import Data"
      ],
      "metadata": {
        "id": "T2BeGt2L_TfT"
      },
      "execution_count": 19,
      "outputs": []
    },
    {
      "cell_type": "code",
      "execution_count": 23,
      "metadata": {
        "id": "j0RX--fl-yXv"
      },
      "outputs": [],
      "source": [
        "def train(model, epochs, data, optimiser, learning_rate, device):\n",
        "  model.to(device)\n",
        "  optimiser = optimiser(model.parameters(), learning_rate)\n",
        "  loss_func = YOLOLoss(num_classes=2)\n",
        "\n",
        "  for epoch in range(epochs):\n",
        "      model.train()\n",
        "      total_loss = 0\n",
        "\n",
        "      for images, targets in data:\n",
        "          images, targets = images.to(device), targets.to(device)\n",
        "          preds = model(images)\n",
        "          loss = sum(loss_func(pred, target) for pred, target in zip(preds, targets))\n",
        "          optimiser.zero_grad()\n",
        "          loss.backward()\n",
        "          optimiser.step()\n",
        "\n",
        "          total_loss += loss.item()\n",
        "\n",
        "          print(f\"Epoch : {epoch}/{epoch+1/epochs}, Loss : {total_loss:.6f}\")"
      ]
    }
  ]
}